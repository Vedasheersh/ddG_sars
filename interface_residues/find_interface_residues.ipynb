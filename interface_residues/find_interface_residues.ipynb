{
 "cells": [
  {
   "cell_type": "code",
   "execution_count": 34,
   "metadata": {},
   "outputs": [],
   "source": [
    "# Chain B - RBD\n",
    "PISA_output_B = open('PISA_6lzgB.txt').read()\n",
    "\n",
    "# store interface residue info.\n",
    "interface_B = []\n",
    "\n",
    "# Remove the unnecessary character -> |\n",
    "PISA_output_B = PISA_output_B.replace('|',' ')\n",
    "lines = PISA_output_B.split('\\n')\n",
    "\n",
    "header = lines[0].split()\n",
    "for line in lines[1:]:\n",
    "    items = line.split()\n",
    "    # Each line will have either 7 or 6 columns\n",
    "\n",
    "    #extract needed info.\n",
    "    if len(items)==7:\n",
    "        restag = items[1]\n",
    "        resid = items[2]\n",
    "        bsa = items[5]\n",
    "    elif len(items)==6:\n",
    "        restag = items[1]\n",
    "        resid = items[2]\n",
    "        bsa = items[4]\n",
    "    \n",
    "    #if everything goes as expected, this should work\n",
    "    try:\n",
    "        chain, resname = restag.split(':')\n",
    "        bsa = float(bsa)\n",
    "        # if non-zero bsa, then interface residue\n",
    "        if bsa>0.0001:\n",
    "            interface_B.append((chain,resid,resname,))\n",
    "    except:\n",
    "        print('Failed in',line)"
   ]
  },
  {
   "cell_type": "code",
   "execution_count": 35,
   "metadata": {},
   "outputs": [],
   "source": [
    "# Chain A - RBD\n",
    "PISA_output_A = open('PISA_6lzgA.txt').read()\n",
    "\n",
    "# store interface residue info.\n",
    "interface_A = []\n",
    "\n",
    "# Remove the unnecessary character -> |\n",
    "PISA_output_A = PISA_output_A.replace('|',' ')\n",
    "lines = PISA_output_A.split('\\n')\n",
    "\n",
    "header = lines[0].split()\n",
    "for line in lines[1:]:\n",
    "    items = line.split()\n",
    "    # Each line will have either 7 or 6 columns\n",
    "\n",
    "    #extract needed info.\n",
    "    if len(items)==7:\n",
    "        restag = items[1]\n",
    "        resid = items[2]\n",
    "        bsa = items[5]\n",
    "    elif len(items)==6:\n",
    "        restag = items[1]\n",
    "        resid = items[2]\n",
    "        bsa = items[4]\n",
    "    \n",
    "    #if everything goes as expected, this should work\n",
    "    try:\n",
    "        chain, resname = restag.split(':')\n",
    "        bsa = float(bsa)\n",
    "        # if non-zero bsa, then interface residue\n",
    "        if bsa>0.0001:\n",
    "            interface_A.append((chain,resid,resname,))\n",
    "    except:\n",
    "        print('Failed in',line)"
   ]
  },
  {
   "cell_type": "code",
   "execution_count": 36,
   "metadata": {},
   "outputs": [
    {
     "name": "stdout",
     "output_type": "stream",
     "text": [
      "[('B', '417', 'LYS'), ('B', '445', 'VAL'), ('B', '446', 'GLY'), ('B', '449', 'TYR'), ('B', '453', 'TYR'), ('B', '455', 'LEU'), ('B', '456', 'PHE'), ('B', '473', 'TYR'), ('B', '475', 'ALA'), ('B', '476', 'GLY'), ('B', '477', 'SER'), ('B', '484', 'GLU'), ('B', '485', 'GLY'), ('B', '486', 'PHE'), ('B', '487', 'ASN'), ('B', '489', 'TYR'), ('B', '490', 'PHE'), ('B', '492', 'LEU'), ('B', '493', 'GLN'), ('B', '496', 'GLY'), ('B', '498', 'GLN'), ('B', '500', 'THR'), ('B', '501', 'ASN'), ('B', '502', 'GLY'), ('B', '503', 'VAL'), ('B', '505', 'TYR')]\n"
     ]
    }
   ],
   "source": [
    "print(interface_B)"
   ]
  },
  {
   "cell_type": "code",
   "execution_count": 37,
   "metadata": {},
   "outputs": [
    {
     "name": "stdout",
     "output_type": "stream",
     "text": [
      "[('A', '19', 'SER'), ('A', '21', 'ILE'), ('A', '24', 'GLN'), ('A', '27', 'THR'), ('A', '28', 'PHE'), ('A', '30', 'ASP'), ('A', '31', 'LYS'), ('A', '34', 'HIS'), ('A', '35', 'GLU'), ('A', '37', 'GLU'), ('A', '38', 'ASP'), ('A', '41', 'TYR'), ('A', '42', 'GLN'), ('A', '45', 'LEU'), ('A', '79', 'LEU'), ('A', '82', 'MET'), ('A', '83', 'TYR'), ('A', '324', 'THR'), ('A', '325', 'GLN'), ('A', '326', 'GLY'), ('A', '330', 'ASN'), ('A', '353', 'LYS'), ('A', '354', 'GLY'), ('A', '355', 'ASP'), ('A', '357', 'ARG'), ('A', '386', 'ALA'), ('A', '393', 'ARG')]\n"
     ]
    }
   ],
   "source": [
    "print(interface_A)"
   ]
  },
  {
   "cell_type": "code",
   "execution_count": 43,
   "metadata": {},
   "outputs": [],
   "source": [
    "aa_map = {\n",
    "    'ALA':'A',\n",
    "    'ARG':'R',\n",
    "    'ASN':'N',\n",
    "    'ASP':'D',\n",
    "    'CYS':'C',\n",
    "    'GLY':'G',\n",
    "    'GLU':'E',\n",
    "    'GLN':'Q',\n",
    "    'HIS':'H',\n",
    "    'ILE':'I',\n",
    "    'LYS':'K',\n",
    "    'MET':'M',\n",
    "    'SER':'S',\n",
    "    'THR':'T',\n",
    "    'VAL':'V',\n",
    "    'TRP':'W',\n",
    "    'TYR':'Y',\n",
    "    'PHE':'F',\n",
    "    'PRO':'P',\n",
    "    'LEU':'L'\n",
    "}"
   ]
  },
  {
   "cell_type": "code",
   "execution_count": 47,
   "metadata": {},
   "outputs": [],
   "source": [
    "f = open('interface_B_clean.txt','w')\n",
    "for each in interface_B:\n",
    "    f.write(aa_map[each[2]]+each[1])\n",
    "    f.write('\\n')\n",
    "f.close()"
   ]
  },
  {
   "cell_type": "code",
   "execution_count": 48,
   "metadata": {},
   "outputs": [],
   "source": [
    "f = open('interface_A_clean.txt','w')\n",
    "for each in interface_A:\n",
    "    f.write(aa_map[each[2]]+each[1])\n",
    "    f.write('\\n')\n",
    "f.close()"
   ]
  },
  {
   "cell_type": "code",
   "execution_count": null,
   "metadata": {},
   "outputs": [],
   "source": []
  }
 ],
 "metadata": {
  "kernelspec": {
   "display_name": "Python 3",
   "language": "python",
   "name": "python3"
  },
  "language_info": {
   "codemirror_mode": {
    "name": "ipython",
    "version": 3
   },
   "file_extension": ".py",
   "mimetype": "text/x-python",
   "name": "python",
   "nbconvert_exporter": "python",
   "pygments_lexer": "ipython3",
   "version": "3.7.6"
  }
 },
 "nbformat": 4,
 "nbformat_minor": 2
}
